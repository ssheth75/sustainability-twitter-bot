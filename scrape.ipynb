{
 "cells": [
  {
   "cell_type": "code",
   "execution_count": 104,
   "metadata": {},
   "outputs": [],
   "source": [
    "import requests\n",
    "import tweepy\n",
    "import nltk\n",
    "from newspaper import Article\n",
    "from nltk.tokenize import sent_tokenize\n",
    "import datetime\n",
    "\n"
   ]
  },
  {
   "cell_type": "code",
   "execution_count": 105,
   "metadata": {},
   "outputs": [],
   "source": [
    "# Twitter API Credentials\n",
    "TWIT_API_KEY = 'XXX'\n",
    "TWIT_API_KEY_SECRET = 'XXX'\n",
    "TWIT_CLIENT_SECRET = 'XXX'\n",
    "TWIT_ACCESS_TOKEN = 'XXX\n",
    "TWIT_ACCESS_TOKEN_SECRET = 'XXX'\n",
    "TWIT_BEARER_TOKEN = 'XXX'\n"
   ]
  },
  {
   "cell_type": "code",
   "execution_count": 106,
   "metadata": {},
   "outputs": [],
   "source": [
    "# Google search API key and custom search engine ID\n",
    "API_KEY = 'XXX' \n",
    "CX_ID = 'XXX'  \n",
    "QUERY = 'sustainability'"
   ]
  },
  {
   "cell_type": "code",
   "execution_count": 88,
   "metadata": {},
   "outputs": [],
   "source": [
    "# Communicate twitter API\n",
    "def twitterAPI():\n",
    "    auth = tweepy.OAuthHandler(TWIT_API_KEY, TWIT_API_KEY_SECRET)\n",
    "    auth.set_access_token(TWIT_ACCESS_TOKEN, TWIT_ACCESS_TOKEN_SECRET)\n",
    "    return tweepy.API(auth)\n",
    "    "
   ]
  },
  {
   "cell_type": "code",
   "execution_count": 89,
   "metadata": {},
   "outputs": [],
   "source": [
    "# Actually send a tweet\n",
    "def tweet(api: tweepy.API, message: str):\n",
    "    api.update_status(message)  \n",
    "\n",
    "    print('Tweeted')"
   ]
  },
  {
   "cell_type": "code",
   "execution_count": 113,
   "metadata": {},
   "outputs": [],
   "source": [
    "# Make a request to the Google Search API\n",
    "apiReq = f'https://www.googleapis.com/customsearch/v1?key={API_KEY}&cx={CX_ID}&q={QUERY}'\n",
    "response = requests.get(apiReq)\n"
   ]
  },
  {
   "cell_type": "code",
   "execution_count": 115,
   "metadata": {},
   "outputs": [],
   "source": [
    "# Extract URLs from the response\n",
    "data = response.json()\n",
    "if 'items' in data:\n",
    "    links = [item['link'] for item in data['items']]\n",
    "    print(links)"
   ]
  },
  {
   "cell_type": "code",
   "execution_count": 116,
   "metadata": {},
   "outputs": [],
   "source": [
    "# Convert Google news links to the actual news links\n",
    "\n",
    "newsLinks = []\n",
    "for link in links:\n",
    "    linkUrl = link\n",
    "    response = requests.get(linkUrl)\n",
    "    redirectUrl = response.url\n",
    "    newsLinks.append(redirectUrl)\n"
   ]
  },
  {
   "cell_type": "code",
   "execution_count": null,
   "metadata": {},
   "outputs": [
    {
     "name": "stdout",
     "output_type": "stream",
     "text": [
      "https://climate.nasa.gov/global-warming-vs-climate-change/\n",
      "https://www.texastribune.org/2023/06/27/texas-climate-change-heat/\n",
      "https://www.bbc.co.uk/news/science-environment-66013854\n",
      "https://www.pewresearch.org/science/2023/06/28/majorities-of-americans-prioritize-renewable-energy-back-steps-to-address-climate-change/\n",
      "https://www.nytimes.com/2023/06/28/climate/heat-smoke-climate-change.html\n",
      "https://www.un.org/en/climatechange/youth-in-action/youth-advisory-group\n",
      "https://www.un.org/en/climatechange/raising-ambition/climate-finance\n",
      "https://www.nature.com/articles/s41558-023-01697-2\n",
      "https://www.ohchr.org/en/press-releases/2022/10/climate-change-greatest-threat-world-has-ever-faced-un-expert-warns\n",
      "https://oehha.ca.gov/climate-change/report/2022-report-indicators-climate-change-california\n"
     ]
    }
   ],
   "source": [
    "for link in newsLinks:\n",
    "    print(link)"
   ]
  },
  {
   "cell_type": "code",
   "execution_count": null,
   "metadata": {},
   "outputs": [
    {
     "name": "stdout",
     "output_type": "stream",
     "text": [
      "https://www.texastribune.org/2023/06/27/texas-climate-change-heat/\n"
     ]
    },
    {
     "name": "stderr",
     "output_type": "stream",
     "text": [
      "[nltk_data] Downloading package punkt to\n",
      "[nltk_data]     /Users/shirvilsheth/nltk_data...\n",
      "[nltk_data]   Package punkt is already up-to-date!\n"
     ]
    }
   ],
   "source": [
    "#for link in newsLinks:\n",
    "currentDate = datetime.date.today()\n",
    "url = newsLinks[1]\n",
    "article = Article(url)\n",
    "article.download()\n",
    "article.parse()\n",
    "nltk.download('punkt')\n",
    "article.nlp()\n",
    "\n",
    "\n",
    "print(url)\n"
   ]
  },
  {
   "cell_type": "code",
   "execution_count": null,
   "metadata": {},
   "outputs": [
    {
     "name": "stdout",
     "output_type": "stream",
     "text": [
      "2023-06-27 00:00:00\n"
     ]
    }
   ],
   "source": [
    "print(article.publish_date)"
   ]
  },
  {
   "cell_type": "code",
   "execution_count": null,
   "metadata": {},
   "outputs": [
    {
     "data": {
      "text/plain": [
       "'https://static01.nyt.com/images/2023/06/29/multimedia/haze-tracker-static/haze-tracker-static-facebookJumbo.jpg'"
      ]
     },
     "execution_count": 46,
     "metadata": {},
     "output_type": "execute_result"
    }
   ],
   "source": [
    "article.top_image"
   ]
  },
  {
   "cell_type": "code",
   "execution_count": null,
   "metadata": {},
   "outputs": [
    {
     "name": "stdout",
     "output_type": "stream",
     "text": [
      "“Climate change” and “global warming” are often used interchangeably but have distinct meanings.\n",
      "Climate change is a long-term change in the average weather patterns that have come to define Earth’s local, regional and global climates.\n",
      "Find Out More: A Guide to NASA’s Global Climate Change WebsiteThis website provides a high-level overview of some of the known causes, effects and indications of global climate change:Evidence.\n",
      "A look at some of the likely future effects of climate change, including U.S. regional effects.\n",
      "Graphs and animated time series showing real-time climate change data, including atmospheric carbon dioxide, global temperature, sea ice extent, and ice sheet volume.\n"
     ]
    }
   ],
   "source": [
    "print(article.summary)"
   ]
  }
 ],
 "metadata": {
  "kernelspec": {
   "display_name": "Python 3",
   "language": "python",
   "name": "python3"
  },
  "language_info": {
   "codemirror_mode": {
    "name": "ipython",
    "version": 3
   },
   "file_extension": ".py",
   "mimetype": "text/x-python",
   "name": "python",
   "nbconvert_exporter": "python",
   "pygments_lexer": "ipython3",
   "version": "3.9.13"
  },
  "orig_nbformat": 4
 },
 "nbformat": 4,
 "nbformat_minor": 2
}
